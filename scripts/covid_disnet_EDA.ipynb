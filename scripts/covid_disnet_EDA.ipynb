{
  "nbformat": 4,
  "nbformat_minor": 0,
  "metadata": {
    "colab": {
      "name": "covid_disnet_EDA.ipynb",
      "provenance": []
    },
    "kernelspec": {
      "name": "python3",
      "display_name": "Python 3"
    },
    "language_info": {
      "name": "python"
    }
  },
  "cells": [
    {
      "cell_type": "markdown",
      "metadata": {
        "id": "UjDlajQ5kinm"
      },
      "source": [
        "# Load Everything Here"
      ]
    },
    {
      "cell_type": "code",
      "metadata": {
        "id": "GjsmhyP6nSJB"
      },
      "source": [
        "import pandas as pd\n",
        "import numpy as np\n",
        "%matplotlib inline\n",
        "from matplotlib import pyplot as plt\n",
        "from matplotlib.pyplot import figure\n",
        "from pprint import pprint"
      ],
      "execution_count": 1,
      "outputs": []
    },
    {
      "cell_type": "markdown",
      "metadata": {
        "id": "ct3RPxj9k62A"
      },
      "source": [
        "# Read Data"
      ]
    },
    {
      "cell_type": "code",
      "metadata": {
        "id": "ULaBnatHk-Oa"
      },
      "source": [
        "edge1 = pd.read_csv(\"Edgelist2019_2.csv\")\n",
        "edge2 = pd.read_csv(\"Edgelist2020_1.csv\")\n",
        "edge3 = pd.read_csv(\"Edgelist2020_2.csv\")"
      ],
      "execution_count": 2,
      "outputs": []
    },
    {
      "cell_type": "code",
      "metadata": {
        "colab": {
          "base_uri": "https://localhost:8080/"
        },
        "id": "QMoiqH0-rkZa",
        "outputId": "616108bf-8281-41ee-a630-7fd27a870de6"
      },
      "source": [
        "print(edge1.head())\n",
        "print(\"--------------------\")\n",
        "print(edge2.head())\n",
        "print(\"--------------------\")\n",
        "print(edge3.head())"
      ],
      "execution_count": 8,
      "outputs": [
        {
          "output_type": "stream",
          "text": [
            "  Source  Target  Weight\n",
            "0   f419  l03115  0.0212\n",
            "1   f419  l03116  0.0224\n",
            "2   f419    e039  0.1444\n",
            "3   f419  e11649  0.0124\n",
            "4   f419   e8342  0.0645\n",
            "--------------------\n",
            "  Source  Target  Weight\n",
            "0   e039   e8342  0.0729\n",
            "1   e039    e871  0.1456\n",
            "2   e039    e872  0.1122\n",
            "3   e039    e876  0.1457\n",
            "4   e039  f17210  0.0793\n",
            "--------------------\n",
            "  Source Target  Weight\n",
            "0  e1122  e6601  0.1273\n",
            "1  e1122  e7800  0.1195\n",
            "2  e1122   e785  0.2042\n",
            "3  e1122  e8770  0.0730\n",
            "4  e1122   i120  0.2158\n"
          ],
          "name": "stdout"
        }
      ]
    },
    {
      "cell_type": "code",
      "metadata": {
        "colab": {
          "base_uri": "https://localhost:8080/"
        },
        "id": "UbJpeccmtbgl",
        "outputId": "971003fa-d361-4b77-e2a1-7870336ee12f"
      },
      "source": [
        "print(edge1.shape,edge2.shape,edge3.shape)"
      ],
      "execution_count": 36,
      "outputs": [
        {
          "output_type": "stream",
          "text": [
            "(28925, 3) (28980, 3) (30105, 3)\n"
          ],
          "name": "stdout"
        }
      ]
    },
    {
      "cell_type": "code",
      "metadata": {
        "colab": {
          "base_uri": "https://localhost:8080/"
        },
        "id": "shWOVL5Yf-9T",
        "outputId": "4554219a-610a-41de-af28-8d17ef71bc23"
      },
      "source": [
        "print(len(edge1.groupby([\"Source\"])),len(edge2.groupby([\"Source\"])),len(edge3.groupby([\"Source\"])))"
      ],
      "execution_count": 17,
      "outputs": [
        {
          "output_type": "stream",
          "text": [
            "1303 1272 1330\n"
          ],
          "name": "stdout"
        }
      ]
    },
    {
      "cell_type": "code",
      "metadata": {
        "colab": {
          "base_uri": "https://localhost:8080/"
        },
        "id": "SaGBYoXig1KH",
        "outputId": "f926d95d-fbd0-4cb7-9b56-1d1ba8470a23"
      },
      "source": [
        "print(len(edge1.groupby([\"Target\"])),len(edge2.groupby([\"Target\"])),len(edge3.groupby([\"Target\"])))"
      ],
      "execution_count": 18,
      "outputs": [
        {
          "output_type": "stream",
          "text": [
            "1737 1730 1779\n"
          ],
          "name": "stdout"
        }
      ]
    },
    {
      "cell_type": "code",
      "metadata": {
        "colab": {
          "base_uri": "https://localhost:8080/"
        },
        "id": "781bVQwKg54c",
        "outputId": "39592e3e-e332-44ea-cb2d-ebb79c406c0e"
      },
      "source": [
        "edge1.Source.value_counts().head(15)"
      ],
      "execution_count": 23,
      "outputs": [
        {
          "output_type": "execute_result",
          "data": {
            "text/plain": [
              "z79899    453\n",
              "z87891    420\n",
              "e785      417\n",
              "i10       407\n",
              "k219      390\n",
              "i2510     387\n",
              "z7982     383\n",
              "e039      361\n",
              "z794      332\n",
              "f419      331\n",
              "e876      328\n",
              "f329      327\n",
              "z7901     321\n",
              "n179      317\n",
              "d649      311\n",
              "Name: Source, dtype: int64"
            ]
          },
          "metadata": {
            "tags": []
          },
          "execution_count": 23
        }
      ]
    },
    {
      "cell_type": "code",
      "metadata": {
        "colab": {
          "base_uri": "https://localhost:8080/"
        },
        "id": "qe9t_uno6lhG",
        "outputId": "7e27b050-7f0d-4383-c673-a110fc56c565"
      },
      "source": [
        "edge2.Source.value_counts().head(25)"
      ],
      "execution_count": 34,
      "outputs": [
        {
          "output_type": "execute_result",
          "data": {
            "text/plain": [
              "z79899    471\n",
              "i10       462\n",
              "e785      428\n",
              "i2510     379\n",
              "n179      377\n",
              "e871      369\n",
              "e876      367\n",
              "e039      367\n",
              "e872      361\n",
              "f17210    338\n",
              "z7982     334\n",
              "d649      325\n",
              "z87891    320\n",
              "k219      319\n",
              "z7901     315\n",
              "e860      288\n",
              "z794      283\n",
              "d62       281\n",
              "j449      281\n",
              "j9601     268\n",
              "e8342     264\n",
              "e119      259\n",
              "n183      255\n",
              "z20828    252\n",
              "g9341     247\n",
              "Name: Source, dtype: int64"
            ]
          },
          "metadata": {
            "tags": []
          },
          "execution_count": 34
        }
      ]
    },
    {
      "cell_type": "code",
      "metadata": {
        "colab": {
          "base_uri": "https://localhost:8080/"
        },
        "id": "Xkes5j3B-HDq",
        "outputId": "b83e99d4-f21b-4acf-a1bb-8a23e7f4f760"
      },
      "source": [
        "edge3.Source.value_counts()"
      ],
      "execution_count": 31,
      "outputs": [
        {
          "output_type": "execute_result",
          "data": {
            "text/plain": [
              "z20828     501\n",
              "z79899     469\n",
              "e785       465\n",
              "i10        445\n",
              "n179       394\n",
              "          ... \n",
              "a539         1\n",
              "r402134      1\n",
              "t25322a      1\n",
              "q203         1\n",
              "i462         1\n",
              "Name: Source, Length: 1330, dtype: int64"
            ]
          },
          "metadata": {
            "tags": []
          },
          "execution_count": 31
        }
      ]
    }
  ]
}